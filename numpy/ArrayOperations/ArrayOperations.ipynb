{
 "cells": [
  {
   "cell_type": "markdown",
   "id": "3d22401e",
   "metadata": {},
   "source": [
    "# NumPy Arithmetic Array Operations\n",
    "NumPy provides a wide range of operations that can perform on arrays, including arithmetic operations.\n",
    "## NumPy Array Element-Wise Addition\n",
    "In NumPy, We can use the both `+` operator and the built-in function `add()` to perform element-wise addition between two NumPy arrays. "
   ]
  },
  {
   "cell_type": "code",
   "execution_count": 1,
   "id": "489dacc2",
   "metadata": {},
   "outputs": [],
   "source": [
    "#import numpy.\n",
    "import numpy as np"
   ]
  },
  {
   "cell_type": "code",
   "execution_count": 2,
   "id": "1f546a70",
   "metadata": {},
   "outputs": [
    {
     "name": "stdout",
     "output_type": "stream",
     "text": [
      "Addition using + operator :  [2 4 6 8]\n",
      "Addition using add() function :  [2 4 6 8]\n"
     ]
    }
   ],
   "source": [
    "#Creating two 1-D array.\n",
    "array1 = np.array([1,2,3,4])\n",
    "array2 = np.array([1,2,3,4])\n",
    "\n",
    "#Using + operator\n",
    "result1 = array1 + array2\n",
    "print(\"Addition using + operator : \", result1)\n",
    "\n",
    "#Using add() function.\n",
    "result2 = np.add(array1, array2)\n",
    "print(\"Addition using add() function : \", result2)"
   ]
  },
  {
   "cell_type": "markdown",
   "id": "415f4339",
   "metadata": {},
   "source": [
    "## NumPy Array Element-Wise Subtraction\n",
    "In NumPy, we can either use the `-` operator or the `subtract()` function to perform element-wise subtraction between two NumPy arrays."
   ]
  },
  {
   "cell_type": "code",
   "execution_count": 4,
   "id": "fc695415",
   "metadata": {},
   "outputs": [
    {
     "name": "stdout",
     "output_type": "stream",
     "text": [
      "Subtraction using - operator :  [1 3 5 7]\n",
      "Subtraction  using subtract() function :  [1 3 5 7]\n"
     ]
    }
   ],
   "source": [
    "#Creating two 1-D array.\n",
    "array3 = np.array([5,6,7,8])\n",
    "array4 = np.array([4,3,2,1])\n",
    "\n",
    "#Using - operator\n",
    "result3 = array3 - array4\n",
    "print(\"Subtraction using - operator : \", result3)\n",
    "\n",
    "#Using subtract() function.\n",
    "result4 = np.subtract(array3, array4)\n",
    "print(\"Subtraction  using subtract() function : \", result4)"
   ]
  },
  {
   "cell_type": "markdown",
   "id": "f15a9d41",
   "metadata": {},
   "source": [
    "## NumPy Array Element-Wise Multiplication\n",
    "For element-wise multiplication, we can use the `*` operator or the `multiply()` function."
   ]
  },
  {
   "cell_type": "code",
   "execution_count": 5,
   "id": "11790cbc",
   "metadata": {},
   "outputs": [
    {
     "name": "stdout",
     "output_type": "stream",
     "text": [
      "Multiplication using * operator :  [20 18 14  8]\n",
      "Multiplication  using multiply() function :  [20 18 14  8]\n"
     ]
    }
   ],
   "source": [
    "#Creating two 1-D array.\n",
    "array5 = np.array([5,6,7,8])\n",
    "array6 = np.array([4,3,2,1])\n",
    "\n",
    "#Using * operator\n",
    "result5 = array5 * array6\n",
    "print(\"Multiplication using * operator : \", result5)\n",
    "\n",
    "#Using multiply() function.\n",
    "result6 = np.multiply(array5, array6)\n",
    "print(\"Multiplication  using multiply() function : \", result6)"
   ]
  },
  {
   "cell_type": "markdown",
   "id": "c964c064",
   "metadata": {},
   "source": [
    "## NumPy Array Element-Wise Division\n",
    "We can use either the `/` operator or the `divide()` function to perform element-wise division between two numpy arrays."
   ]
  },
  {
   "cell_type": "code",
   "execution_count": 7,
   "id": "3b9680cb",
   "metadata": {},
   "outputs": [
    {
     "name": "stdout",
     "output_type": "stream",
     "text": [
      "Division using / operator :  [1.25 2.   3.5  8.  ]\n",
      "Division  using divide() function :  [1.25 2.   3.5  8.  ]\n"
     ]
    }
   ],
   "source": [
    "#Creating two 1-D array.\n",
    "array7 = np.array([5,6,7,8])\n",
    "array8 = np.array([4,3,2,1])\n",
    "\n",
    "#Using / operator\n",
    "result7 = array7 / array8\n",
    "print(\"Division using / operator : \", result7)\n",
    "\n",
    "#Using divide() function.\n",
    "result8 = np.divide(array7, array8)\n",
    "print(\"Division  using divide() function : \", result8)"
   ]
  },
  {
   "cell_type": "markdown",
   "id": "a6c46d36",
   "metadata": {},
   "source": [
    "## NumPy Array Element-Wise Exponentiation\n",
    "Array exponentiation refers to raising each element of an array to a given power.<br>\n",
    "\n",
    "In NumPy, we can use either the `**` operator or the `power()` function to perform the element-wise exponentiation operation."
   ]
  },
  {
   "cell_type": "code",
   "execution_count": 8,
   "id": "84bec4d1",
   "metadata": {},
   "outputs": [
    {
     "name": "stdout",
     "output_type": "stream",
     "text": [
      "Exponentiation using ** operator :  [25 36 49 64]\n",
      "Exponentiation  using power() function :  [25 36 49 64]\n"
     ]
    }
   ],
   "source": [
    "#Creating two 1-D array.\n",
    "array9 = np.array([5,6,7,8])\n",
    "\n",
    "#Using ** operator\n",
    "result9 = array9 ** 2\n",
    "print(\"Exponentiation using ** operator : \", result9)\n",
    "\n",
    "#Using power() function.\n",
    "result10 = np.power(array9, 2)\n",
    "print(\"Exponentiation  using power() function : \", result10)"
   ]
  },
  {
   "cell_type": "markdown",
   "id": "65b124f6",
   "metadata": {},
   "source": [
    "## NumPy Array Element-Wise Modulus\n",
    "We can perform a modulus operation in NumPy arrays using the `%` operator or the `mod()` function.<br>\n",
    "\n",
    "This operation calculates the remainder of element-wise division between two arrays."
   ]
  },
  {
   "cell_type": "code",
   "execution_count": 9,
   "id": "6ff59f0d",
   "metadata": {},
   "outputs": [
    {
     "name": "stdout",
     "output_type": "stream",
     "text": [
      "Modulus using % operator :  [1 0 1 0]\n",
      "Modulus  using mod() function :  [1 0 1 0]\n"
     ]
    }
   ],
   "source": [
    "#Creating two 1-D array.\n",
    "array11 = np.array([5,6,7,8])\n",
    "array12 = np.array([4,3,2,1])\n",
    "\n",
    "#Using % operator\n",
    "result11 = array11 % array12\n",
    "print(\"Modulus using % operator : \", result11)\n",
    "\n",
    "#Using mod() function.\n",
    "result12 = np.mod(array11, array12)\n",
    "print(\"Modulus  using mod() function : \", result12)"
   ]
  },
  {
   "cell_type": "markdown",
   "id": "1a18e934",
   "metadata": {},
   "source": [
    "## NumPy Array Element-Wise Square root.\n",
    "We can perform a square root operation in Numpy arrays using sqrt() function.\n"
   ]
  },
  {
   "cell_type": "code",
   "execution_count": 10,
   "id": "56d4d0d6",
   "metadata": {},
   "outputs": [
    {
     "name": "stdout",
     "output_type": "stream",
     "text": [
      "Square root  using sqrt() function :  [2.23606798 2.44948974 2.64575131 2.82842712]\n"
     ]
    }
   ],
   "source": [
    "#Creating two 1-D array.\n",
    "array13 = np.array([5,6,7,8])\n",
    "\n",
    "#Using sqrt() function.\n",
    "result13 = np.sqrt(array9)\n",
    "print(\"Square root  using sqrt() function : \", result13)"
   ]
  },
  {
   "cell_type": "markdown",
   "id": "f6456d09",
   "metadata": {},
   "source": [
    "## NumPy Array Statistical Functions\n",
    "NumPy provides us with various statistical functions to perform statistical data analysis.<br>\n",
    "\n",
    "These statistical functions are useful to find basic statistical concepts like mean, median, variance, etc. It is also used to find the maximum or the minimum element in an array."
   ]
  },
  {
   "cell_type": "code",
   "execution_count": 44,
   "id": "84e00b66",
   "metadata": {},
   "outputs": [
    {
     "name": "stdout",
     "output_type": "stream",
     "text": [
      "Compute the mean :  90.2\n",
      "Compute the median :  89.0\n",
      "Compute the variance :  59.760000000000005\n",
      "Compute the minimum :  78\n",
      "Compute the maximum :  99\n",
      "Compute the std :  7.730459236035076\n",
      "Compute the Percentile of 75% of the value in marks are less than or equal to :  98.0\n"
     ]
    }
   ],
   "source": [
    "#Create a 1-D array.\n",
    "marks = np.array([99,78,98,89,87])\n",
    "\n",
    "#compute the mean.\n",
    "mean_marks = np.mean(marks)\n",
    "print(\"Compute the mean : \", mean_marks)\n",
    "\n",
    "#compute the median.\n",
    "median_marks = np.median(marks)\n",
    "print(\"Compute the median : \", median_marks)\n",
    "\n",
    "#compute the variance.\n",
    "var_marks = np.var(marks)\n",
    "print(\"Compute the variance : \", var_marks)\n",
    "\n",
    "#compute the minimum.\n",
    "min_marks = np.min(marks)\n",
    "print(\"Compute the minimum : \", min_marks)\n",
    "\n",
    "#compute the maximum.\n",
    "max_marks = np.max(marks)\n",
    "print(\"Compute the maximum : \", max_marks)\n",
    "\n",
    "#compute the standard deviation.\n",
    "std_marks = np.std(marks)\n",
    "print(\"Compute the std : \", std_marks)\n",
    "\n",
    "#compute the percentile.\n",
    "percentile_marks = np.percentile(marks, 75)\n",
    "print(\"Compute the Percentile of 75 : \", percentile_marks)"
   ]
  },
  {
   "cell_type": "markdown",
   "id": "024fe2fc",
   "metadata": {},
   "source": [
    "## Numpy Comparison/Logical Operations\n",
    "\n",
    "NumPy's comparison operators allow for element-wise comparison of two arrays.\n",
    "\n",
    "Similarly, logical operators perform boolean algebra, which is a branch of algebra that deals with True and False statements.\n",
    "\n",
    "## Comparison Operations\n",
    "\n",
    "### < (less than)  or less()\n",
    "returns `True` if element of the first array is less than the second one"
   ]
  },
  {
   "cell_type": "code",
   "execution_count": 15,
   "id": "03a8fca9",
   "metadata": {},
   "outputs": [
    {
     "name": "stdout",
     "output_type": "stream",
     "text": [
      "Comparison using < operator :  [False False False False]\n",
      "Comparison  using less() function :  [False False False False]\n"
     ]
    }
   ],
   "source": [
    "#Creating two 1-D array.\n",
    "array15 = np.array([5,6,7,8])\n",
    "array16 = np.array([4,3,2,1])\n",
    "\n",
    "#Using < operator\n",
    "result15 = array15 < array16\n",
    "print(\"Comparison using < operator : \", result15)\n",
    "\n",
    "#Using less() function.\n",
    "result16 = np.less(array15, array16)\n",
    "print(\"Comparison  using less() function : \", result16)"
   ]
  },
  {
   "cell_type": "markdown",
   "id": "5fa34f0a",
   "metadata": {},
   "source": [
    "### <= (less than or equal to)\tor less_equal()\n",
    "returns True if element of the first array is less than or equal to the second one"
   ]
  },
  {
   "cell_type": "code",
   "execution_count": 17,
   "id": "b190f950",
   "metadata": {},
   "outputs": [
    {
     "name": "stdout",
     "output_type": "stream",
     "text": [
      "Comparison using <= operator :  [False False False False]\n",
      "Comparison  using less_equal() function :  [False False False False]\n"
     ]
    }
   ],
   "source": [
    "#Creating two 1-D array.\n",
    "array15 = np.array([5,6,7,8])\n",
    "array16 = np.array([4,3,2,1])\n",
    "\n",
    "#Using <= operator\n",
    "result15 = array15 <= array16\n",
    "print(\"Comparison using <= operator : \", result15)\n",
    "\n",
    "#Using less_equal() function.\n",
    "result16 = np.less_equal(array15, array16)\n",
    "print(\"Comparison  using less_equal() function : \", result16)"
   ]
  },
  {
   "cell_type": "markdown",
   "id": "d08f04f5",
   "metadata": {},
   "source": [
    "### > (greater than) or greater\t\n",
    "returns True if element of the first array is greater than the second one"
   ]
  },
  {
   "cell_type": "code",
   "execution_count": 23,
   "id": "b5a76ef2",
   "metadata": {},
   "outputs": [
    {
     "name": "stdout",
     "output_type": "stream",
     "text": [
      "Comparison using > operator :  [ True  True  True  True]\n",
      "Comparison  using greater() function :  [ True  True  True  True]\n"
     ]
    }
   ],
   "source": [
    "#Creating two 1-D array.\n",
    "array15 = np.array([5,6,7,8])\n",
    "array16 = np.array([4,3,2,1])\n",
    "\n",
    "#Using > operator\n",
    "result15 = array15 > array16\n",
    "print(\"Comparison using > operator : \", result15)\n",
    "\n",
    "#Using greater() function.\n",
    "result16 = np.greater(array15, array16)\n",
    "print(\"Comparison  using greater() function : \", result16)"
   ]
  },
  {
   "cell_type": "markdown",
   "id": "aa1aa005",
   "metadata": {},
   "source": [
    "### >= (greater than or equal to) or greater_equal()\n",
    "returns True if element of the first array is greater than or equal to the second one"
   ]
  },
  {
   "cell_type": "code",
   "execution_count": 19,
   "id": "185f1e44",
   "metadata": {},
   "outputs": [
    {
     "name": "stdout",
     "output_type": "stream",
     "text": [
      "Comparison using >= operator :  [ True  True  True  True]\n",
      "Comparison  using greater_equal() function :  [ True  True  True  True]\n"
     ]
    }
   ],
   "source": [
    "#Creating two 1-D array.\n",
    "array15 = np.array([5,6,7,8])\n",
    "array16 = np.array([4,3,2,1])\n",
    "\n",
    "#Using >= operator\n",
    "result15 = array15 >= array16\n",
    "print(\"Comparison using >= operator : \", result15)\n",
    "\n",
    "#Using greater_equal() function.\n",
    "result16 = np.greater_equal(array15, array16)\n",
    "print(\"Comparison  using greater_equal() function : \", result16)"
   ]
  },
  {
   "cell_type": "markdown",
   "id": "1124e070",
   "metadata": {},
   "source": [
    "### == (equal to)\tor equal()\n",
    "returns True if the element of the first array is equal to the second one"
   ]
  },
  {
   "cell_type": "code",
   "execution_count": 21,
   "id": "1ad5de04",
   "metadata": {},
   "outputs": [
    {
     "name": "stdout",
     "output_type": "stream",
     "text": [
      "Comparison using == operator :  [False False False False]\n",
      "Comparison  using equal() function :  [False False False False]\n"
     ]
    }
   ],
   "source": [
    "#Creating two 1-D array.\n",
    "array15 = np.array([5,6,7,8])\n",
    "array16 = np.array([4,3,2,1])\n",
    "\n",
    "#Using == operator\n",
    "result15 = array15 == array16\n",
    "print(\"Comparison using == operator : \", result15)\n",
    "\n",
    "#Using equal() function.\n",
    "result16 = np.equal(array15, array16)\n",
    "print(\"Comparison  using equal() function : \", result16)"
   ]
  },
  {
   "cell_type": "markdown",
   "id": "a629b993",
   "metadata": {},
   "source": [
    "### != (not equal to) or not_equal() \n",
    "returns True if the element of the first array is not equal to the second one"
   ]
  },
  {
   "cell_type": "code",
   "execution_count": 22,
   "id": "10f7c288",
   "metadata": {},
   "outputs": [
    {
     "name": "stdout",
     "output_type": "stream",
     "text": [
      "Comparison using != operator :  [ True  True  True  True]\n",
      "Comparison  using npt_equal() function :  [ True  True  True  True]\n"
     ]
    }
   ],
   "source": [
    "#Creating two 1-D array.\n",
    "array15 = np.array([5,6,7,8])\n",
    "array16 = np.array([4,3,2,1])\n",
    "\n",
    "#Using != operator\n",
    "result15 = array15 != array16\n",
    "print(\"Comparison using != operator : \", result15)\n",
    "\n",
    "#Using not_equal() function.\n",
    "result16 = np.not_equal(array15, array16)\n",
    "print(\"Comparison  using not_equal() function : \", result16)"
   ]
  },
  {
   "cell_type": "markdown",
   "id": "b4d22133",
   "metadata": {},
   "source": [
    "## Logical Operations\n",
    "`logical_and`\tComputes the element-wise truth value of x1 AND x2 <br>\n",
    "`logical_or`\tComputes the element-wise truth value of x1 OR x2 <br>\n",
    "`logical_not`\tComputes the element-wise truth value of NOT x"
   ]
  },
  {
   "cell_type": "code",
   "execution_count": 28,
   "id": "47466276",
   "metadata": {},
   "outputs": [
    {
     "name": "stdout",
     "output_type": "stream",
     "text": [
      "Comparison using logical_and operator :  [False False False  True]\n",
      "Comparison  using logical_not() function :  [False  True False False]\n",
      "Comparison  using logical_or() function :  [ True  True  True  True]\n"
     ]
    }
   ],
   "source": [
    "#Creating two 1-D array.\n",
    "array17 = np.array([True, False, True, True])\n",
    "array18 = np.array([False, False, False, True])\n",
    "\n",
    "#Using logical_and function.\n",
    "result17 = np.logical_and(array17, array18)\n",
    "print(\"Comparison using logical_and operator : \", result17)\n",
    "\n",
    "#Using logical_not() function.\n",
    "result18 = np.logical_not(array17, array18)\n",
    "print(\"Comparison  using logical_not() function : \", result18)\n",
    "\n",
    "#Using logical_or() function.\n",
    "result19 = np.logical_or(array17, array18)\n",
    "print(\"Comparison  using logical_or() function : \", result19)"
   ]
  },
  {
   "cell_type": "markdown",
   "id": "79362594",
   "metadata": {},
   "source": [
    "## Trigonometric Functions\n",
    "NumPy provides a set of standard trigonometric functions to calculate the trigonometric ratios (sine, cosine, tangent, etc.)<br>\n",
    "1. sin()\tthe sine of an angle \n",
    "2. cos()\tcosine of an angle\n",
    "3. tan()\ttangent of an angle\n",
    "4. arcsin()\tthe inverse sine\n",
    "5. arccos()\tthe inverse cosine\n",
    "6. arctan()\tthe inverse tangent\n",
    "7. degrees()\tconverts an angle in radians to degrees\n",
    "8. radians()\tconverts an angle in degrees to radians"
   ]
  },
  {
   "cell_type": "code",
   "execution_count": 35,
   "id": "3c547efc",
   "metadata": {},
   "outputs": [
    {
     "name": "stdout",
     "output_type": "stream",
     "text": [
      "Using sin() function :   [0.84147098 0.90929743 0.14112001]\n",
      "Using arcsin() function :  [1.         1.14159265 0.14159265]\n",
      "convert the angle to degrees :  70.7161699484316\n",
      "convert the degree to angle :  1.2342300000000002\n"
     ]
    }
   ],
   "source": [
    "#create a 1-D array.\n",
    "#array of angles in radians.\n",
    "angles = np.array([1,2,3])\n",
    "\n",
    "#using sin() to find the sine of an angles.\n",
    "sin_values = np.sin(angles)\n",
    "print(\"Using sin() function :  \", sin_values)\n",
    "\n",
    "#Using arcsin() to find the inverse of an angles. \n",
    "inverse_values = np.arcsin(sin_values)\n",
    "print(\"Using arcsin() function : \", inverse_values)\n",
    "\n",
    "#convert the angle to degrees.\n",
    "deginradians = 1.23423\n",
    "angle_degree = np.degrees(deginradians)\n",
    "print(\"convert the angle to degrees : \", angle_degree)\n",
    "\n",
    "#convert the degree into angles.\n",
    "angle_radian = np.radians(angle_degree)\n",
    "print(\"convert the degree to angle : \", angle_radian)"
   ]
  },
  {
   "cell_type": "markdown",
   "id": "7e5816a4",
   "metadata": {},
   "source": [
    "## Rounding Functions\n",
    "We use rounding functions to round the values in an array to a specified number of decimal places.\n",
    "1. round()\treturns the value rounded to the desired precision\n",
    "2. floor()\treturns the values of array down to the nearest integer that is less than each element\n",
    "3. ceil()\treturns the values of array up to the nearest integer that is greater than each element."
   ]
  },
  {
   "cell_type": "code",
   "execution_count": 36,
   "id": "74d31357",
   "metadata": {},
   "outputs": [
    {
     "name": "stdout",
     "output_type": "stream",
     "text": [
      "Round the array to 3 decimal point :  [1. 3. 6.]\n",
      "Using floor() function :  [1. 3. 5.]\n",
      "Using ceil() function :  [2. 4. 6.]\n"
     ]
    }
   ],
   "source": [
    "#create a 1-D array of float-point numbers.\n",
    "numbers = np.array([1.2344, 3.2345, 5.67323])\n",
    "\n",
    "#round the array to 3 decimal point.\n",
    "rounded_arr = np.round(numbers)\n",
    "print(\"Round the array to 3 decimal point : \", rounded_arr)\n",
    "\n",
    "#using floor() function.\n",
    "floor_arr = np.floor(numbers)\n",
    "print(\"Using floor() function : \", floor_arr)\n",
    "\n",
    "#using ceil() function.\n",
    "ceil_arr = np.ceil(numbers)\n",
    "print(\"Using ceil() function : \", ceil_arr)"
   ]
  },
  {
   "cell_type": "markdown",
   "id": "9baf1fb4",
   "metadata": {},
   "source": [
    "## Numpy Constants\n",
    "NumPy constants are the predefined fixed values used for mathematical calculations.\n",
    "\n",
    "### np.pi\n",
    "`np.pi` is a mathematical constant that returns the value of pi(π) as a floating point number. Its value is approximately 3.141592653589793."
   ]
  },
  {
   "cell_type": "code",
   "execution_count": 39,
   "id": "02105d42",
   "metadata": {},
   "outputs": [
    {
     "name": "stdout",
     "output_type": "stream",
     "text": [
      "Circumference of a circle :  31.41592653589793\n"
     ]
    }
   ],
   "source": [
    "#initialising radius and circumferance\n",
    "\n",
    "radius = 5\n",
    "circumference = 2 * np.pi * radius\n",
    "print(\"Circumference of a circle : \", circumference)\n"
   ]
  },
  {
   "cell_type": "markdown",
   "id": "5f62927e",
   "metadata": {},
   "source": [
    "### np.e\n",
    "`np.e` is widely used with exponential and logarithmic functions. Its value is approximately 2.718281828459045."
   ]
  },
  {
   "cell_type": "code",
   "execution_count": 41,
   "id": "cc230c94",
   "metadata": {},
   "outputs": [
    {
     "name": "stdout",
     "output_type": "stream",
     "text": [
      "Exponentail value :  2.718281828459045\n",
      "Exponential value of 1 :  2.718281828459045\n"
     ]
    }
   ],
   "source": [
    "exp = np.e\n",
    "print(\"Exponentail value : \", exp)\n",
    "\n",
    "\n",
    "# using exp() funtion\n",
    "expon = 1\n",
    "result_exp = np.exp(expon)\n",
    "print(\"Exponential value of 1 : \", result_exp)"
   ]
  },
  {
   "cell_type": "markdown",
   "id": "9a1fef55",
   "metadata": {},
   "source": [
    "## NumPy String Functions\n",
    "### NumPy String add() Function\n",
    "In NumPy, we use the `np.char.add()` function to perform element-wise string concatenation for two arrays of strings."
   ]
  },
  {
   "cell_type": "code",
   "execution_count": 47,
   "id": "ac89709a",
   "metadata": {},
   "outputs": [
    {
     "name": "stdout",
     "output_type": "stream",
     "text": [
      "Using np.char.add() :  ['Jennie : Rapper' 'Lisa : Dancer' 'Jisoo : Idol' 'Rose :Vocal']\n"
     ]
    }
   ],
   "source": [
    "#create string array.\n",
    "str_arr1 = np.array(['Jennie : ', 'Lisa : ', 'Jisoo : ', 'Rose :' ])\n",
    "str_arr2 = np.array(['Rapper', 'Dancer', 'Idol', 'Vocal' ])\n",
    "\n",
    "#using np.char.add() function.\n",
    "str_result = np.char.add(str_arr1, str_arr2)\n",
    "print(\"Using np.char.add() : \", str_result)"
   ]
  },
  {
   "cell_type": "markdown",
   "id": "448623b4",
   "metadata": {},
   "source": [
    "## NumPy String multiply() Function\n",
    "The `np.char.multiply()` function is used to perform element-wise string repetition. It returns an array of strings with each string element repeated a specified number of times."
   ]
  },
  {
   "cell_type": "code",
   "execution_count": 54,
   "id": "878b9ca4",
   "metadata": {},
   "outputs": [
    {
     "name": "stdout",
     "output_type": "stream",
     "text": [
      "Using np.char.multiply() :  ['jenniejenniejennie']\n"
     ]
    }
   ],
   "source": [
    "#create string array.\n",
    "str_arr3 = np.array(['jennie'])\n",
    "\n",
    "#using np.char.multiply() function.\n",
    "str_mul = np.char.multiply(str_arr3, 3)\n",
    "print(\"Using np.char.multiply() : \", str_mul)"
   ]
  },
  {
   "cell_type": "markdown",
   "id": "057d469f",
   "metadata": {},
   "source": [
    "## NumPy String upper() and lower() Function\n",
    "NumPy provides two string functions for converting the case of a string: `np.char.upper()` and `np.char.lower()`."
   ]
  },
  {
   "cell_type": "code",
   "execution_count": 57,
   "id": "89f9b3fd",
   "metadata": {},
   "outputs": [
    {
     "name": "stdout",
     "output_type": "stream",
     "text": [
      "Using np.char.upper() :  ['JENNIE' 'LISA' 'JISSO' 'ROSE']\n",
      "Using np.char.lower() :  ['jennie' 'lisa' 'jisso' 'rose']\n",
      "Using np.char.capitalize() :  ['Jennie' 'Lisa' 'Jisso' 'Rose']\n"
     ]
    }
   ],
   "source": [
    "#create string array.\n",
    "str_arr4 = np.array(['jeNNie', 'LiSa', 'JisSO', 'RoSE'])\n",
    "\n",
    "#using np.char.upper() function.\n",
    "str_up = np.char.upper(str_arr4)\n",
    "print(\"Using np.char.upper() : \", str_up)\n",
    "\n",
    "#using np.char.lower() function.\n",
    "str_lo = np.char.lower(str_arr4)\n",
    "print(\"Using np.char.lower() : \", str_lo)\n",
    "\n",
    "#using np.char.capitalice() function.\n",
    "str_cp = np.char.capitalize(str_arr4)\n",
    "print(\"Using np.char.capitalize() : \", str_cp)"
   ]
  },
  {
   "cell_type": "markdown",
   "id": "72d1f6d4",
   "metadata": {},
   "source": [
    "## NumPy String join() Function\n",
    "In NumPy, we use the `np.char.join()` function to join strings in an array with a specified delimiter"
   ]
  },
  {
   "cell_type": "code",
   "execution_count": 58,
   "id": "af4e7712",
   "metadata": {},
   "outputs": [
    {
     "name": "stdout",
     "output_type": "stream",
     "text": [
      "Using np.char.join() :  ['J-e-n-n-i-e-L-i-s-a-J-i-s-s-o-R-o-s-e']\n"
     ]
    }
   ],
   "source": [
    "#create string array.\n",
    "str_arr4 = np.array(['Jennie' 'Lisa' 'Jisso' 'Rose'])\n",
    "\n",
    "#using np.char.join() function.\n",
    "str_join = np.char.join('-', str_arr4)\n",
    "print(\"Using np.char.join() : \", str_join)"
   ]
  },
  {
   "cell_type": "markdown",
   "id": "f431ac1e",
   "metadata": {},
   "source": [
    "## NumPy String equal() Function\n",
    "The `np.char.equal()` function is used to perform element-wise string comparison between two string arrays."
   ]
  },
  {
   "cell_type": "code",
   "execution_count": 59,
   "id": "3904d3e6",
   "metadata": {},
   "outputs": [
    {
     "name": "stdout",
     "output_type": "stream",
     "text": [
      "Using np.char.equal() :  [False False False False]\n"
     ]
    }
   ],
   "source": [
    "#create string array.\n",
    "str_arr5 = np.array(['Jennie', 'Lisa', 'Jisoo', 'Rose' ])\n",
    "str_arr6 = np.array(['Rapper', 'Dancer', 'Idol', 'Vocal' ])\n",
    "\n",
    "#using np.char.equal() function.\n",
    "str_equal = np.char.equal(str_arr5, str_arr6)\n",
    "print(\"Using np.char.equal() : \", str_equal)"
   ]
  }
 ],
 "metadata": {
  "kernelspec": {
   "display_name": "Python 3 (ipykernel)",
   "language": "python",
   "name": "python3"
  },
  "language_info": {
   "codemirror_mode": {
    "name": "ipython",
    "version": 3
   },
   "file_extension": ".py",
   "mimetype": "text/x-python",
   "name": "python",
   "nbconvert_exporter": "python",
   "pygments_lexer": "ipython3",
   "version": "3.11.3"
  }
 },
 "nbformat": 4,
 "nbformat_minor": 5
}
