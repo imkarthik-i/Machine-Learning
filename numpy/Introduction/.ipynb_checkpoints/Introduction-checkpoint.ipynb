{
 "cells": [
  {
   "cell_type": "markdown",
   "id": "f47d5bc7",
   "metadata": {},
   "source": [
    "# NumPy\n",
    "\n",
    "`NumPy` (pronounced \"NUM-py\") is a library for the Python programming language, adding support for large, multi-dimensional arrays and matrices, along with a large collection of high-level mathematical functions to operate on these arrays.\n",
    "\n",
    "## what is NumPy is used for ?\n",
    "    1. Machine Learning\n",
    "    2. Data Science\n",
    "    3. Image and Signal Processing\n",
    "    4. Scientific Computing\n",
    "    5. Quantum Computing\n"
   ]
  },
  {
   "cell_type": "markdown",
   "id": "b75ebdf4",
   "metadata": {},
   "source": [
    "## Import NumPy in Python\n",
    "<code>import numpy as np</code>\n"
   ]
  },
  {
   "cell_type": "code",
   "execution_count": 2,
   "id": "5722cf11",
   "metadata": {},
   "outputs": [],
   "source": [
    "import numpy as np"
   ]
  },
  {
   "cell_type": "markdown",
   "id": "5cdc9e52",
   "metadata": {},
   "source": [
    "> `Note`:\n",
    ">If we import NumPy without an alias using import numpy, we can create an array using the numpy.array() function.<br>\n",
    ">Using an alias np is a common convention among Python programmers, as it makes it easier and quicker to refer to the NumPy library in your code."
   ]
  },
  {
   "cell_type": "markdown",
   "id": "44adfe2f",
   "metadata": {},
   "source": [
    "## NumPy Array Creation\n",
    "1. An array allows us to store a collection of multiple values in a single data structure.\n",
    "\n",
    "2. The NumPy array is similar to a list, but with added benefits such as being faster and more memory efficient."
   ]
  },
  {
   "cell_type": "markdown",
   "id": "318fefff",
   "metadata": {},
   "source": [
    "### Create Array Using Python List\n",
    ">We can create a NumPy array using a Python `List`."
   ]
  },
  {
   "cell_type": "code",
   "execution_count": 4,
   "id": "fc240726",
   "metadata": {},
   "outputs": [
    {
     "name": "stdout",
     "output_type": "stream",
     "text": [
      "[ 2  3  5  7 11]\n"
     ]
    }
   ],
   "source": [
    "# Create a list. \n",
    "prime_no = [2,3,5,7,11]\n",
    "array1 = np.array(prime_no)\n",
    "print(array1)"
   ]
  },
  {
   "cell_type": "code",
   "execution_count": 6,
   "id": "ca28ac44",
   "metadata": {},
   "outputs": [
    {
     "name": "stdout",
     "output_type": "stream",
     "text": [
      "[1 2 3 4 5 6]\n"
     ]
    }
   ],
   "source": [
    "# Directly passing the list instead of creating it.\n",
    "array2 = np.array([1,2,3,4,5,6])\n",
    "print(array2)"
   ]
  },
  {
   "cell_type": "markdown",
   "id": "bab2c735",
   "metadata": {},
   "source": [
    ">`Note`: Unlike lists, arrays can only store data of a similar type."
   ]
  },
  {
   "cell_type": "markdown",
   "id": "f28e37fb",
   "metadata": {},
   "source": [
    "## Create an Array Using np.zeros() and np.ones()\n",
    "The `np.zeros()` function allows us to create an array filled with all zeros.<br>\n",
    "The `np.ones()` function allows us to create an array filled with all ones."
   ]
  },
  {
   "cell_type": "code",
   "execution_count": 13,
   "id": "95cffa3d",
   "metadata": {},
   "outputs": [
    {
     "data": {
      "text/plain": [
       "array([0., 0., 0., 0., 0., 0.])"
      ]
     },
     "execution_count": 13,
     "metadata": {},
     "output_type": "execute_result"
    }
   ],
   "source": [
    "# Using np.zeros.\n",
    "array3 = np.zeros(6)\n",
    "print(array3)"
   ]
  },
  {
   "cell_type": "code",
   "execution_count": 14,
   "id": "019fcf08",
   "metadata": {},
   "outputs": [
    {
     "name": "stdout",
     "output_type": "stream",
     "text": [
      "[1. 1. 1. 1.]\n"
     ]
    }
   ],
   "source": [
    "# Using np.ones.\n",
    "array4 = np.ones(4)\n",
    "print(array4)"
   ]
  },
  {
   "cell_type": "markdown",
   "id": "59e9b5a0",
   "metadata": {},
   "source": [
    "## Create an Array With np.arange()\n",
    "The `np.arange()` function returns an array with values within a specified interval. "
   ]
  },
  {
   "cell_type": "code",
   "execution_count": 17,
   "id": "eb57cd71",
   "metadata": {},
   "outputs": [
    {
     "name": "stdout",
     "output_type": "stream",
     "text": [
      "[ 0  1  2  3  4  5  6  7  8  9 10]\n"
     ]
    }
   ],
   "source": [
    "# Creating the values between 0 to 10 by giving the array range value 11.\n",
    "array5 = np.arange(11)\n",
    "print(array5)"
   ]
  },
  {
   "cell_type": "code",
   "execution_count": 20,
   "id": "316dd2d0",
   "metadata": {},
   "outputs": [
    {
     "name": "stdout",
     "output_type": "stream",
     "text": [
      "[ 0  5 10 15 20 25 30 35 40 45 50 55 60 65 70 75 80 85 90 95]\n"
     ]
    }
   ],
   "source": [
    "# create an array with values from 0 to 100 with a step of 5.\n",
    "array6 = np.arange(0, 100, 5)\n",
    "print(array6)"
   ]
  },
  {
   "cell_type": "markdown",
   "id": "0e3f0073",
   "metadata": {},
   "source": [
    "## Create an Array With np.random.rand()\n",
    "The `np.random.rand()` function is used to create an array of random numbers."
   ]
  },
  {
   "cell_type": "code",
   "execution_count": 24,
   "id": "d79c60db",
   "metadata": {},
   "outputs": [
    {
     "name": "stdout",
     "output_type": "stream",
     "text": [
      "[0.64852106 0.39195748 0.7694095  0.25523033 0.1675137  0.22467876]\n"
     ]
    }
   ],
   "source": [
    "# generate an array of 5 random numbers.\n",
    "array7 = np.random.rand(6)\n",
    "print(array7)"
   ]
  },
  {
   "cell_type": "markdown",
   "id": "58a3a3db",
   "metadata": {},
   "source": [
    ">`Note`: This code generates a different output each time we run it. "
   ]
  },
  {
   "cell_type": "markdown",
   "id": "9b57f929",
   "metadata": {},
   "source": [
    "## Create an Empty NumPy Array\n",
    "To create an empty NumPy array, we use the `np.empty()` function. "
   ]
  },
  {
   "cell_type": "code",
   "execution_count": 25,
   "id": "b3b57f0d",
   "metadata": {},
   "outputs": [
    {
     "name": "stdout",
     "output_type": "stream",
     "text": [
      "[0.64852106 0.39195748 0.7694095  0.25523033 0.1675137  0.22467876]\n"
     ]
    }
   ],
   "source": [
    "# To create an empty array.\n",
    "array7 = np.empty(6)\n",
    "print(array7)"
   ]
  },
  {
   "cell_type": "markdown",
   "id": "d3f7da28",
   "metadata": {},
   "source": [
    ">`Note`:  If we look into the output of the code, we can see the empty array is actually not empty, it has some values in it.\n",
    "It is because although we are creating an empty array, NumPy will try to add some value to it. The values stored in the array are arbitrary and have no significance."
   ]
  },
  {
   "cell_type": "markdown",
   "id": "e6aa2788",
   "metadata": {},
   "source": [
    "## NumPy N-D Array Creation\n",
    "1. An N-dimensional array refers to the number of dimensions in which the array is organized.\n",
    "\n",
    "2. An array can have any number of dimensions and each dimension can have any number of elements.\n",
    "## Create a 2-D and 3-D NumPy Array"
   ]
  },
  {
   "cell_type": "code",
   "execution_count": 27,
   "id": "07acf95f",
   "metadata": {},
   "outputs": [
    {
     "name": "stdout",
     "output_type": "stream",
     "text": [
      "[[1 2]\n",
      " [3 4]\n",
      " [5 6]]\n"
     ]
    }
   ],
   "source": [
    "# To create a 2-D array with 3 rows and 2columns.\n",
    "array8 = np.array([\n",
    "    [1,2],\n",
    "    [3,4],\n",
    "    [5,6]\n",
    "])\n",
    "print(array8)"
   ]
  },
  {
   "cell_type": "code",
   "execution_count": 29,
   "id": "a1193482",
   "metadata": {},
   "outputs": [
    {
     "name": "stdout",
     "output_type": "stream",
     "text": [
      "[[[ 1  2  3  4]\n",
      "  [ 5  6  7  8]]\n",
      "\n",
      " [[ 9 10 11 12]\n",
      "  [13 14 15 16]]\n",
      "\n",
      " [[17 18 19 20]\n",
      "  [21 22 23 24]]]\n"
     ]
    }
   ],
   "source": [
    "# To create a 3-D array with 3 \"slices\", each of 2 rows and 4 columns.\n",
    "array9 = np.array([\n",
    "    [\n",
    "        [1,2,3,4],\n",
    "        [5,6,7,8]\n",
    "    ],\n",
    "    [\n",
    "        [9,10,11,12],\n",
    "        [13,14,15,16]\n",
    "    ],\n",
    "    [\n",
    "        [17,18,19,20],\n",
    "        [21,22,23,24]\n",
    "    ]\n",
    "])\n",
    "print(array9)"
   ]
  },
  {
   "cell_type": "markdown",
   "id": "762f5a6b",
   "metadata": {},
   "source": [
    ">`Note`: In the context of an N-D array, a slice is like a subset of the array that we can take out by selecting a specific range of rows, columns."
   ]
  },
  {
   "cell_type": "markdown",
   "id": "7de3bf5b",
   "metadata": {},
   "source": [
    "## Create N-D Arrays using np.zeros() and np.ones()\n",
    "The `np.zeros()` function allows us to create N-D arrays filled with all zeros.<br>\n",
    "The `np.ones()` function allows us to create N-D arrays filled with all ones."
   ]
  },
  {
   "cell_type": "code",
   "execution_count": 30,
   "id": "4c0b99ff",
   "metadata": {},
   "outputs": [
    {
     "name": "stdout",
     "output_type": "stream",
     "text": [
      "[[0. 0. 0.]\n",
      " [0. 0. 0.]]\n"
     ]
    }
   ],
   "source": [
    "# create 2D array with 2 rows and 3 columns filled with zeros.\n",
    "array10 = np.zeros((2, 3))\n",
    "print(array10)"
   ]
  },
  {
   "cell_type": "code",
   "execution_count": 31,
   "id": "71f6ee49",
   "metadata": {},
   "outputs": [
    {
     "name": "stdout",
     "output_type": "stream",
     "text": [
      "[[[0. 0. 0. 0.]\n",
      "  [0. 0. 0. 0.]\n",
      "  [0. 0. 0. 0.]]\n",
      "\n",
      " [[0. 0. 0. 0.]\n",
      "  [0. 0. 0. 0.]\n",
      "  [0. 0. 0. 0.]]]\n"
     ]
    }
   ],
   "source": [
    "# create 3D array with dimensions 2x3x4 filled with zeros.\n",
    "array11 = np.zeros((2, 3, 4))\n",
    "print(array11)"
   ]
  },
  {
   "cell_type": "code",
   "execution_count": 32,
   "id": "75b189f4",
   "metadata": {},
   "outputs": [
    {
     "name": "stdout",
     "output_type": "stream",
     "text": [
      "[[1. 1. 1.]\n",
      " [1. 1. 1.]]\n"
     ]
    }
   ],
   "source": [
    "# create 2D array with 2 rows and 3 columns filled with ones.\n",
    "array12 = np.ones((2, 3))\n",
    "print(array12)"
   ]
  },
  {
   "cell_type": "code",
   "execution_count": 33,
   "id": "b79e454d",
   "metadata": {},
   "outputs": [
    {
     "name": "stdout",
     "output_type": "stream",
     "text": [
      "[[[1. 1. 1. 1.]\n",
      "  [1. 1. 1. 1.]\n",
      "  [1. 1. 1. 1.]]\n",
      "\n",
      " [[1. 1. 1. 1.]\n",
      "  [1. 1. 1. 1.]\n",
      "  [1. 1. 1. 1.]]]\n"
     ]
    }
   ],
   "source": [
    "# create 3D array with dimensions 2x3x4 filled with ones.\n",
    "array13 = np.ones((2, 3, 4))\n",
    "print(array13)"
   ]
  },
  {
   "cell_type": "markdown",
   "id": "f0bb04a2",
   "metadata": {},
   "source": [
    "## Create N-D Array with a Specified Value\n",
    "`np.full()` function to create a multidimensional array with a specified value."
   ]
  },
  {
   "cell_type": "code",
   "execution_count": 35,
   "id": "7d571a83",
   "metadata": {},
   "outputs": [
    {
     "name": "stdout",
     "output_type": "stream",
     "text": [
      "[[3 3 3]\n",
      " [3 3 3]\n",
      " [3 3 3]]\n"
     ]
    }
   ],
   "source": [
    "# Create a 2-D array with elements initialized to 3.\n",
    "array14 = np.full((3,3), 3)\n",
    "print(array14)"
   ]
  },
  {
   "cell_type": "markdown",
   "id": "b7b32c9e",
   "metadata": {},
   "source": [
    "## Creating Arrays With np.random.rand()\n",
    "The `np.random.rand()` function is used to create an array of random numbers."
   ]
  },
  {
   "cell_type": "code",
   "execution_count": 37,
   "id": "c7597f5d",
   "metadata": {},
   "outputs": [
    {
     "name": "stdout",
     "output_type": "stream",
     "text": [
      "[[0.39834411 0.05205856 0.61556998]\n",
      " [0.9875898  0.48720294 0.56262561]\n",
      " [0.12844862 0.34087522 0.58813787]]\n"
     ]
    }
   ],
   "source": [
    "# create a 2D array of 3 rows and 3 columns of random numbers\n",
    "array15 = np.random.rand(3,3)\n",
    "print(array15)"
   ]
  },
  {
   "cell_type": "code",
   "execution_count": 38,
   "id": "c78a251a",
   "metadata": {},
   "outputs": [
    {
     "name": "stdout",
     "output_type": "stream",
     "text": [
      "[[[0.79277348 0.86321841 0.76259436 0.22282456 0.54306635]\n",
      "  [0.66805002 0.2161184  0.3200256  0.94206903 0.159618  ]]\n",
      "\n",
      " [[0.55966223 0.18541033 0.83367891 0.51944143 0.8928062 ]\n",
      "  [0.72567056 0.42037702 0.4376355  0.11284058 0.28761842]]\n",
      "\n",
      " [[0.46305954 0.94461634 0.47055864 0.28916633 0.6657532 ]\n",
      "  [0.17289113 0.01093064 0.26217658 0.75153516 0.56477095]]]\n"
     ]
    }
   ],
   "source": [
    "# create a 3D array of 3 slices of 2 rows and 5 columns random numbers\n",
    "array16 = np.random.rand(3, 2, 5)\n",
    "print(array16)"
   ]
  },
  {
   "cell_type": "markdown",
   "id": "c4cd7fff",
   "metadata": {},
   "source": [
    "## Create Empty N-D NumPy Array\n",
    "To create an empty N-D NumPy array, we use the `np.empty()`."
   ]
  },
  {
   "cell_type": "code",
   "execution_count": 51,
   "id": "978a426f",
   "metadata": {},
   "outputs": [
    {
     "name": "stdout",
     "output_type": "stream",
     "text": [
      "[[-5.26590666e+232]\n",
      " [ 7.39434469e+060]]\n"
     ]
    }
   ],
   "source": [
    "# create an empty 2D array with 2 rows and 1 columns\n",
    "array17 = np.empty((2,1))\n",
    "print(array17)"
   ]
  },
  {
   "cell_type": "code",
   "execution_count": 45,
   "id": "70beeff9",
   "metadata": {},
   "outputs": [
    {
     "name": "stdout",
     "output_type": "stream",
     "text": [
      "[[[6.23042070e-307]\n",
      "  [4.67296746e-307]\n",
      "  [1.69121096e-306]\n",
      "  [1.60218491e-306]]\n",
      "\n",
      " [[1.89146896e-307]\n",
      "  [7.56571288e-307]\n",
      "  [3.11525958e-307]\n",
      "  [1.24610723e-306]]]\n"
     ]
    }
   ],
   "source": [
    "# create an empty 3D array of shape (2, 4, 1) \n",
    "array18 = np.empty((2, 4, 1))\n",
    "print(array18)"
   ]
  },
  {
   "cell_type": "markdown",
   "id": "57f875c1",
   "metadata": {},
   "source": [
    "## NumPy Data Types\n",
    "A data type is a way to specify the type of data that will be stored in an array.<br>\n",
    "Most commonly used numeric data types in NumPy:\n",
    "\n",
    "1. int8, int16, int32, int64 - signed integer types with different bit sizes\n",
    "2. uint8, uint16, uint32, uint64 - unsigned integer types with different bit sizes\n",
    "3. float32, float64 - floating-point types with different precision levels\n",
    "4. complex64, complex128 - complex number types with different precision levels\n",
    "\n",
    "### Check Data Type of a NumPy Array\n",
    "To check the data type of a NumPy array, we can use the dtype attribute. "
   ]
  },
  {
   "cell_type": "code",
   "execution_count": 52,
   "id": "5150424d",
   "metadata": {},
   "outputs": [
    {
     "name": "stdout",
     "output_type": "stream",
     "text": [
      "int32\n"
     ]
    }
   ],
   "source": [
    "# To create a array of integers.\n",
    "array19 = np.array([1,2,3,4])\n",
    "print(array19.dtype)"
   ]
  },
  {
   "cell_type": "code",
   "execution_count": 53,
   "id": "285b1d1c",
   "metadata": {},
   "outputs": [
    {
     "name": "stdout",
     "output_type": "stream",
     "text": [
      "float64\n"
     ]
    }
   ],
   "source": [
    "# To create a array of float-point numbers.\n",
    "array20 = np.array([1.2,2.1,3.5,4.6])\n",
    "print(array20.dtype)"
   ]
  },
  {
   "cell_type": "code",
   "execution_count": 54,
   "id": "b4d6eecb",
   "metadata": {},
   "outputs": [
    {
     "name": "stdout",
     "output_type": "stream",
     "text": [
      "complex128\n"
     ]
    }
   ],
   "source": [
    "# To create a array of complex numbers.\n",
    "array21 = np.array([1+3j,2+4j,3+5j,4+9j])\n",
    "print(array21.dtype)"
   ]
  },
  {
   "cell_type": "markdown",
   "id": "baa61f7f",
   "metadata": {},
   "source": [
    "### Creating NumPy Arrays With a Defined Data Type\n",
    "In NumPy, we can create an array with a defined data type by passing the `dtype` parameter while calling the `np.array()` function. "
   ]
  },
  {
   "cell_type": "code",
   "execution_count": 56,
   "id": "1d943f88",
   "metadata": {},
   "outputs": [
    {
     "name": "stdout",
     "output_type": "stream",
     "text": [
      "int8\n"
     ]
    }
   ],
   "source": [
    "#Create a integers of 8-bit.\n",
    "array22 = np.array([1,2,3], dtype='int8')\n",
    "print(array22.dtype)\n",
    "#Similary for all other data types."
   ]
  },
  {
   "cell_type": "markdown",
   "id": "c8f5675a",
   "metadata": {},
   "source": [
    "### NumPy Type Conversion\n",
    "In NumPy, we can convert the data type of an array using the `astype()` method."
   ]
  },
  {
   "cell_type": "code",
   "execution_count": 57,
   "id": "2021def4",
   "metadata": {},
   "outputs": [
    {
     "name": "stdout",
     "output_type": "stream",
     "text": [
      "[1. 2. 3. 4.]\n"
     ]
    }
   ],
   "source": [
    "#Create an array of integers.\n",
    "int_num = np.array([1,2,3,4])\n",
    "float_num  = int_num.astype('float')\n",
    "print(float_num)"
   ]
  },
  {
   "cell_type": "markdown",
   "id": "38f11ad5",
   "metadata": {},
   "source": [
    "## NumPy Array Attributes\n",
    "In NumPy, attributes are properties of NumPy arrays that provide information about the array's shape, size, data type, dimension, and so on.\n",
    "### Numpy Array ndim Attribute\n",
    "The `ndim` attribute returns the number of dimensions in the numpy array. "
   ]
  },
  {
   "cell_type": "code",
   "execution_count": 59,
   "id": "739c4463",
   "metadata": {},
   "outputs": [
    {
     "name": "stdout",
     "output_type": "stream",
     "text": [
      "2\n"
     ]
    }
   ],
   "source": [
    "#Create an 2-D array.\n",
    "array23 = np.array([\n",
    "    [1,2,3,4],\n",
    "    [5,6,7,8]\n",
    "])\n",
    "print(array23.ndim)"
   ]
  },
  {
   "cell_type": "markdown",
   "id": "01e252e9",
   "metadata": {},
   "source": [
    "### NumPy Array size Attribute\n",
    "The `size` attribute returns the total number of elements in the given array."
   ]
  },
  {
   "cell_type": "code",
   "execution_count": 60,
   "id": "a0f352ec",
   "metadata": {},
   "outputs": [
    {
     "name": "stdout",
     "output_type": "stream",
     "text": [
      "8\n"
     ]
    }
   ],
   "source": [
    "#Create an 2-D array.\n",
    "array24 = np.array([\n",
    "    [1,2,3,4],\n",
    "    [5,6,7,8]\n",
    "])\n",
    "print(array24.size)"
   ]
  },
  {
   "cell_type": "markdown",
   "id": "1aef2b8a",
   "metadata": {},
   "source": [
    "### NumPy Array shape Attribute\n",
    "In NumPy, the `shape` attribute returns a tuple of integers that gives the size of the array in each dimension."
   ]
  },
  {
   "cell_type": "code",
   "execution_count": 61,
   "id": "2aaf5345",
   "metadata": {},
   "outputs": [
    {
     "name": "stdout",
     "output_type": "stream",
     "text": [
      "(2, 4)\n"
     ]
    }
   ],
   "source": [
    "#Create an 2-D array.\n",
    "array25 = np.array([\n",
    "    [1,2,3,4],\n",
    "    [5,6,7,8]\n",
    "])\n",
    "print(array25.shape)"
   ]
  },
  {
   "cell_type": "markdown",
   "id": "567c9c01",
   "metadata": {},
   "source": [
    "### NumPy Array itemsize Attribute\n",
    "In NumPy, the `itemsize` attribute determines size (in bytes) of each element in the array."
   ]
  },
  {
   "cell_type": "code",
   "execution_count": 63,
   "id": "077af7d8",
   "metadata": {},
   "outputs": [
    {
     "name": "stdout",
     "output_type": "stream",
     "text": [
      "4\n"
     ]
    }
   ],
   "source": [
    "#Create an 2-D array.\n",
    "array26 = np.array([\n",
    "    [1,2,3,4],\n",
    "    [5,6,7,8]\n",
    "])\n",
    "print(array26.itemsize)"
   ]
  },
  {
   "cell_type": "markdown",
   "id": "89742b6d",
   "metadata": {},
   "source": [
    "### NumPy Array data Attribute\n",
    "In simpler terms, the `data` attribute is like a pointer to the memory location where the array's data is stored in the computer's memory."
   ]
  },
  {
   "cell_type": "code",
   "execution_count": 64,
   "id": "e0f74d2d",
   "metadata": {},
   "outputs": [
    {
     "name": "stdout",
     "output_type": "stream",
     "text": [
      "<memory at 0x0000013DECB95A40>\n"
     ]
    }
   ],
   "source": [
    "#Create an 2-D array.\n",
    "array27 = np.array([\n",
    "    [1,2,3,4],\n",
    "    [5,6,7,8]\n",
    "])\n",
    "print(array27.data)"
   ]
  },
  {
   "cell_type": "markdown",
   "id": "5212fdbe",
   "metadata": {},
   "source": [
    "## NumPy Input Output\n",
    "NumPy offers input/output (I/O) functions for loading and saving data to and from files.\n",
    "\n",
    "Input/output functions support a variety of file formats, including binary and text formats.\n",
    "\n",
    "1. The binary format is designed for efficient storage and retrieval of large arrays.\n",
    "2. The text format is more human-readable and can be easily edited in a text editor.\n",
    "### NumPy save() Function\n",
    "In NumPy, the `save()` function is used to save an array to a binary file in the NumPy `.npy` format.<br>\n",
    "Here's the syntax of the save() function<br>\n",
    "    `np.save(file, array)` \n",
    "\n",
    "file - specifies the file name (along with path if required).<br>\n",
    "array - specifies the NumPy array to be saved"
   ]
  },
  {
   "cell_type": "code",
   "execution_count": 65,
   "id": "0c57878a",
   "metadata": {},
   "outputs": [],
   "source": [
    "#Create an 2-D array.\n",
    "array28 = np.array([\n",
    "    [1,2,3,4],\n",
    "    [5,6,7,8]\n",
    "])\n",
    "#To save the array to a file.\n",
    "np.save('sample.npy', array28)"
   ]
  },
  {
   "cell_type": "markdown",
   "id": "9d728d54",
   "metadata": {},
   "source": [
    "### NumPy load() Function\n",
    "In the previous example, we saved an array to a binary file. Now we'll load that saved file using the `load()` function.\n"
   ]
  },
  {
   "cell_type": "code",
   "execution_count": 66,
   "id": "8f633672",
   "metadata": {},
   "outputs": [
    {
     "name": "stdout",
     "output_type": "stream",
     "text": [
      "[[1 2 3 4]\n",
      " [5 6 7 8]]\n"
     ]
    }
   ],
   "source": [
    "# To load a binary file use load()\n",
    "loaded_array = np.load('sample.npy')\n",
    "print(loaded_array)"
   ]
  },
  {
   "cell_type": "markdown",
   "id": "f19e1ca7",
   "metadata": {},
   "source": [
    "### NumPy savetxt() Function\n",
    "In NumPy, we use the `savetxt()` function to save an array to a text file."
   ]
  },
  {
   "cell_type": "code",
   "execution_count": 67,
   "id": "162c1ae6",
   "metadata": {},
   "outputs": [],
   "source": [
    "#Create an 2-D array.\n",
    "array29 = np.array([\n",
    "    [1,2,3,4],\n",
    "    [5,6,7,8]\n",
    "])\n",
    "#To save the array to a file.\n",
    "np.savetxt('sample.txt', array29)"
   ]
  },
  {
   "cell_type": "markdown",
   "id": "2bb43d2f",
   "metadata": {},
   "source": [
    "### NumPy loadtxt() Function\n",
    "We use the `loadtxt()` function to load the saved txt file."
   ]
  },
  {
   "cell_type": "code",
   "execution_count": 68,
   "id": "6d4a5076",
   "metadata": {},
   "outputs": [
    {
     "name": "stdout",
     "output_type": "stream",
     "text": [
      "[[1. 2. 3. 4.]\n",
      " [5. 6. 7. 8.]]\n"
     ]
    }
   ],
   "source": [
    "# To load a binary file use load()\n",
    "loaded_array = np.loadtxt('sample.txt')\n",
    "print(loaded_array)"
   ]
  },
  {
   "cell_type": "markdown",
   "id": "b357009b",
   "metadata": {},
   "source": [
    "## Numpy Array Indexing\n",
    "In NumPy, each element in an array is associated with a number. The number is known as an `array index`.<br>\n",
    "### 1-D NumPy Array Indexing"
   ]
  },
  {
   "cell_type": "code",
   "execution_count": 76,
   "id": "870099a9",
   "metadata": {},
   "outputs": [
    {
     "name": "stdout",
     "output_type": "stream",
     "text": [
      "created array :  [1 2 3 4 5 6]\n",
      "Access using index :  2\n",
      "Modified array :  [ 1  2  3 30  5  6]\n",
      "Negative indexing :  5\n",
      "Modified array using negative index :  [ 1  2  3 30  5 20]\n"
     ]
    }
   ],
   "source": [
    "#Create an 1-D array.\n",
    "array30 = np.array([1,2,3,4,5,6])\n",
    "\n",
    "\n",
    "#Print the array we created.\n",
    "print(\"created array : \", array30)\n",
    "\n",
    "\n",
    "#Access array elements using indexing.\n",
    "print(\"Access using index : \" ,array30[1])\n",
    "\n",
    "\n",
    "#Modified array.\n",
    "array30[3] = 30\n",
    "print(\"Modified array : \", array30)\n",
    "\n",
    "\n",
    "#Negative indexing.\n",
    "print(\"Negative indexing : \", array30[-2])\n",
    "\n",
    "\n",
    "#Modified array using negative index.\n",
    "array30[-1] = 20\n",
    "print(\"Modified array using negative index : \", array30)"
   ]
  },
  {
   "cell_type": "markdown",
   "id": "03e1c5a5",
   "metadata": {},
   "source": [
    "### 2-D NumPy Array Indexing\n",
    "Array indexing in NumPy allows us to access and manipulate elements in a 2-D array."
   ]
  },
  {
   "cell_type": "code",
   "execution_count": 81,
   "id": "c1e9a9e8",
   "metadata": {},
   "outputs": [
    {
     "name": "stdout",
     "output_type": "stream",
     "text": [
      "Created array :  [[ 1  2  3  4]\n",
      " [ 5  6  7  8]\n",
      " [12 34 56 78]]\n",
      "Accessing the 2nd row 3rd element :  7\n",
      "Access the second row of the array [5 6 7 8]\n",
      "Access the third column of the array [ 3  7 56]\n"
     ]
    }
   ],
   "source": [
    "#Create 2-D array.\n",
    "array31 = np.array([\n",
    "    [1,2,3,4],\n",
    "    [5,6,7,8],\n",
    "    [12,34,56,78]\n",
    "])\n",
    "\n",
    "\n",
    "#Print the create array.\n",
    "print(\"Created array : \", array31)\n",
    "\n",
    "\n",
    "#Accessing the element.\n",
    "print(\"Accessing the 2nd row 3rd element : \", array31[1,2])\n",
    "\n",
    "\n",
    "# access the second row of the array\"\n",
    "print(\"Access the second row of the array\", array31[1, :])\n",
    "\n",
    "\n",
    "# access the third column of the array\"\n",
    "print(\"Access the third column of the array\", array31[:,2])"
   ]
  },
  {
   "cell_type": "markdown",
   "id": "f105c452",
   "metadata": {},
   "source": [
    "## 3-D NumPy Array Indexing\n",
    "To access an element of a 3D array, we use three indices separated by commas.\n",
    "\n",
    "1. The first index refers to the slice.\n",
    "2. The second index refers to the row.\n",
    "3. The third index refers to the column.\n",
    "\n",
    ">Note: In 3D arrays, slice is a 2D array that is obtained by taking a subset of the elements in one of the dimensions."
   ]
  },
  {
   "cell_type": "code",
   "execution_count": 83,
   "id": "334aeb33",
   "metadata": {},
   "outputs": [
    {
     "name": "stdout",
     "output_type": "stream",
     "text": [
      "[[[ 1  2  3  4]\n",
      "  [ 5  6  7  8]]\n",
      "\n",
      " [[12 34 56 78]\n",
      "  [23 45 67 89]]]\n",
      "Accessing the 2nd slice 1st row 3rd element :  56\n"
     ]
    }
   ],
   "source": [
    "#Create a 3-D array.\n",
    "array32 = np.array([\n",
    "    [\n",
    "        [1,2,3,4],\n",
    "        [5,6,7,8]\n",
    "    ],\n",
    "    [\n",
    "        [12,34,56,78],\n",
    "        [23,45,67,89]\n",
    "    ]\n",
    "])\n",
    "\n",
    "\n",
    "#Print the 3-D dimensional array just we created.\n",
    "print(array32)\n",
    "\n",
    "\n",
    "#Accessing the specific element.\n",
    "print(\"Accessing the 2nd slice 1st row 3rd element : \", array32[1,0,2])"
   ]
  },
  {
   "cell_type": "markdown",
   "id": "cb11885d",
   "metadata": {},
   "source": [
    "## NumPy Array Slicing\n",
    "Array Slicing is the process of extracting a portion of an array.<br>\n",
    "Syntax of NumPy Array Slicing.<br>\n",
    "`array[start:stop:step]`"
   ]
  },
  {
   "cell_type": "code",
   "execution_count": 100,
   "id": "f35ce1b5",
   "metadata": {},
   "outputs": [
    {
     "name": "stdout",
     "output_type": "stream",
     "text": [
      "Created array :  [1 2 3 4 5 6 7 8 9 0]\n",
      "Slice array from index 2 to index 6 :  [3 4 5 6]\n",
      "Slice array from index 0 to index 8 (exclusive) with a step size of 2 :  [1 3 5 7]\n",
      "slice array from index 3 up to the last element :  [4 5 6 7 8 9 0]\n",
      "Items from start to end :  [1 2 3 4 5 6 7 8 9 0]\n",
      "Modify elements using start parameter:  [ 1  2  3  4  5  6  7  8 30 30]\n",
      "Modify elements using stop parameter :  [80  2  3  4  5  6  7  8 30 30]\n",
      "Modify elements using start and stop parameter :  [80  2  3  4 14 14 14  8 30 30]\n",
      "Modify elements using start and stop parameter :  [234   2 234   4 234  14 234   8 234  30]\n",
      "Current array :  [234   2 234   4 234  14 234   8 234  30]\n",
      "Negative Slicing :  [ 14 234   8 234  30]\n",
      "Negative Slicing using start and stop parameters :  [  2 234   4]\n",
      "Negative Slicing using start and stop parameters :  [30  8 14  4]\n",
      "[ 30 234   8 234  14 234   4 234   2 234]\n"
     ]
    }
   ],
   "source": [
    "#Create an 1-D array.\n",
    "array33 = np.array([1,2,3,4,5,6,7,8,9,0])\n",
    "\n",
    "\n",
    "#Print the array\n",
    "print(\"Created array : \", array33)\n",
    "\n",
    "\n",
    "#Slice array1 from index 2 to index 6 (exclusive)\n",
    "print(\"Slice array from index 2 to index 6 : \", array33[2:6])\n",
    "\n",
    "\n",
    "\n",
    "#Slice array1 from index 0 to index 8 (exclusive) with a step size of 2\n",
    "print(\"Slice array from index 0 to index 8 (exclusive) with a step size of 2 : \" , array33[0:8:2])\n",
    "\n",
    "\n",
    "#Slice array1 from index 3 up to the last element\n",
    "print(\"slice array from index 3 up to the last element : \", array33[3:])\n",
    "\n",
    "\n",
    "#Items from start to end\n",
    "print(\"Items from start to end : \", array33[:])\n",
    "\n",
    "\n",
    "#Modify elements using start parameter.\n",
    "array33[8:]=30\n",
    "print(\"Modify elements using start parameter: \", array33)\n",
    " \n",
    "    \n",
    "#Modify elements using stop parameter.\n",
    "array33[:1]=80\n",
    "print(\"Modify elements using stop parameter : \",array33)\n",
    "\n",
    "\n",
    "#Modify elements using start and stop parameter.\n",
    "array33[4:7]=14\n",
    "print(\"Modify elements using start and stop parameter : \",array33)\n",
    "\n",
    "\n",
    "#Modify elements using start , stop and step parameter\n",
    "array33[0:11:2]=234\n",
    "print(\"Modify elements using start and stop parameter : \",array33)\n",
    "\n",
    "\n",
    "#print current array.\n",
    "print(\"Current array : \", array33)\n",
    "\n",
    "#NumPy Array Negative Slicing.\n",
    "print(\"Negative Slicing : \" , array33[-5:])\n",
    "\n",
    "\n",
    "\n",
    "#NumPy Array Negative Slicing using start and stop parameters.\n",
    "print(\"Negative Slicing using start and stop parameters : \" , array33[-9:-6])\n",
    "\n",
    "\n",
    "#NumPy Array Negative Slicing using start, stop and step parameters.\n",
    "print(\"Negative Slicing using start and stop parameters : \" , array33[-1:-9:-2])\n",
    "\n",
    "\n",
    "#Reverse a numpy array using slicing.\n",
    "reverse_array = array33[::-1]\n",
    "print(reverse_array)"
   ]
  },
  {
   "cell_type": "markdown",
   "id": "2a0af5df",
   "metadata": {},
   "source": [
    "## NumPy Array Reshaping\n",
    "NumPy array reshaping simply means changing the shape of an array without changing its data.<br>\n",
    "The syntax of NumPy array reshaping is<br>\n",
    "\n",
    "`np.reshape(array, newshape, order = 'C')`\n",
    "   1. array - input array that needs to be reshaped,\n",
    "   2. newshape - desired new shape of the array\n",
    "   3. order (optional) - specifies the order in which the elements of the array should be arranged. By default it is set to 'C'"
   ]
  },
  {
   "cell_type": "code",
   "execution_count": 103,
   "id": "24c257cd",
   "metadata": {},
   "outputs": [
    {
     "name": "stdout",
     "output_type": "stream",
     "text": [
      "Reshaping 1-D array to 2-D array :  [[ 1  2  3  4]\n",
      " [ 5  6  7  8]\n",
      " [ 9 10 11 12]]\n",
      "Reshaping 1-D array to 3-D array :  [[[ 1  2]\n",
      "  [ 3  4]\n",
      "  [ 5  6]]\n",
      "\n",
      " [[ 7  8]\n",
      "  [ 9 10]\n",
      "  [11 12]]]\n"
     ]
    }
   ],
   "source": [
    "#Create an array. \n",
    "array34 = np.array([1,2,3,4,5,6,7,8,9,10, 11, 12])\n",
    "\n",
    "\n",
    "#Reshaping 1-D array to 2-D array.\n",
    "result2D = np.reshape(array34, (3,4))\n",
    "print(\"Reshaping 1-D array to 2-D array : \", result2D)\n",
    "\n",
    "\n",
    "#Reshaping 1-D array to 3-D array.\n",
    "result3D = np.reshape(array34, (2,3,2))\n",
    "print(\"Reshaping 1-D array to 3-D array : \", result3D)"
   ]
  },
  {
   "cell_type": "markdown",
   "id": "721265d7",
   "metadata": {},
   "source": [
    "## Flatten N-d Array to 1-D Array Using reshape()\n",
    "Flattening an array simply means converting a multidimensional array into a 1D array.\n",
    "\n",
    "To flatten an N-d array to a 1-D array we can use reshape() and pass \"-1\" as an argument"
   ]
  },
  {
   "cell_type": "code",
   "execution_count": 105,
   "id": "cb305363",
   "metadata": {},
   "outputs": [
    {
     "name": "stdout",
     "output_type": "stream",
     "text": [
      "Flattened 3-D array :  [ 1  2  3  4 23  4 56  7  4  3  2  1 21 32 43 54]\n"
     ]
    }
   ],
   "source": [
    "#Create a 3-D array\n",
    "array35 = np.array([\n",
    "    [\n",
    "        [1,2,3,4],\n",
    "        [23,4,56,7]\n",
    "    ],\n",
    "    [\n",
    "        [4,3,2,1],\n",
    "        [21,32,43,54]\n",
    "    ]\n",
    "])\n",
    "\n",
    "result = np.reshape(array35, -1)\n",
    "print(\"Flattened 3-D array : \", result)"
   ]
  },
  {
   "cell_type": "markdown",
   "id": "ebe3212c",
   "metadata": {},
   "source": [
    "## NumPy Array Transpose\n",
    "The transpose of a matrix is obtained by moving the rows data to the column and columns data to the rows."
   ]
  },
  {
   "cell_type": "code",
   "execution_count": 3,
   "id": "860df20f",
   "metadata": {},
   "outputs": [
    {
     "name": "stdout",
     "output_type": "stream",
     "text": [
      "Transpose of 3-D array :  [[[ 1  4]\n",
      "  [23 21]]\n",
      "\n",
      " [[ 2  3]\n",
      "  [ 4 32]]\n",
      "\n",
      " [[ 3  2]\n",
      "  [56 43]]\n",
      "\n",
      " [[ 4  1]\n",
      "  [ 7 54]]]\n"
     ]
    }
   ],
   "source": [
    "#Create a 3-D array\n",
    "array36 = np.array([\n",
    "    [\n",
    "        [1,2,3,4],\n",
    "        [23,4,56,7]\n",
    "    ],\n",
    "    [\n",
    "        [4,3,2,1],\n",
    "        [21,32,43,54]\n",
    "    ]\n",
    "])\n",
    "\n",
    "#compute transpose\n",
    "result1 = np.transpose(array36)\n",
    "print(\"Transpose of 3-D array : \", result1)"
   ]
  }
 ],
 "metadata": {
  "kernelspec": {
   "display_name": "Python 3 (ipykernel)",
   "language": "python",
   "name": "python3"
  },
  "language_info": {
   "codemirror_mode": {
    "name": "ipython",
    "version": 3
   },
   "file_extension": ".py",
   "mimetype": "text/x-python",
   "name": "python",
   "nbconvert_exporter": "python",
   "pygments_lexer": "ipython3",
   "version": "3.11.3"
  }
 },
 "nbformat": 4,
 "nbformat_minor": 5
}
